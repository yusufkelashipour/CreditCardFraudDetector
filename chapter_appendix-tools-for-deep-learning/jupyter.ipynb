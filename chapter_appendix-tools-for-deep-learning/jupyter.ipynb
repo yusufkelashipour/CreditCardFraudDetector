{
  "cells": [
    {
      "cell_type": "code",
      "source": [],
      "metadata": {
        "id": "W4xqXvzyS_iC"
      },
      "id": "W4xqXvzyS_iC",
      "execution_count": null,
      "outputs": []
    }
  ],
  "metadata": {
    "kernelspec": {
      "display_name": "Python 3",
      "name": "python3"
    },
    "language_info": {
      "name": "python"
    },
    "required_libs": [],
    "colab": {
      "provenance": []
    }
  },
  "nbformat": 4,
  "nbformat_minor": 5
}